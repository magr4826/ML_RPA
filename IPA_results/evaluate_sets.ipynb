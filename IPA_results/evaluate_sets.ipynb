{
 "cells": [
  {
   "cell_type": "markdown",
   "metadata": {},
   "source": [
    "This is a simple script we used to check how many materials were in each set.\n",
    "The train_set.txt, validation_set.txt and test_set.txt files contain the IDs of the materials used to train/validate/test the IPA model."
   ]
  },
  {
   "cell_type": "code",
   "execution_count": null,
   "metadata": {},
   "outputs": [],
   "source": [
    "import pandas as pd\n",
    "import os"
   ]
  },
  {
   "cell_type": "code",
   "execution_count": null,
   "metadata": {},
   "outputs": [],
   "source": [
    "data_df = pd.read_pickle(os.path.join(\n",
    "    os.pardir, \"database\", \"data_300_rpa.pckl\"))"
   ]
  },
  {
   "cell_type": "code",
   "execution_count": null,
   "metadata": {},
   "outputs": [],
   "source": [
    "with open(\"train_set.txt\") as f:\n",
    "    train_set = f.read().splitlines()\n",
    "print(\"Size of the IPA training set: \" + str(len(train_set)))\n",
    "with open(\"validation_set.txt\") as f:\n",
    "    val_set = f.read().splitlines()\n",
    "print(\"Size of the IPA validation set: \" + str(len(val_set)))\n",
    "with open(\"test_set.txt\") as f:\n",
    "    test_set = f.read().splitlines()\n",
    "print(\"Size of the IPA test set: \" + str(len(test_set)))"
   ]
  },
  {
   "cell_type": "code",
   "execution_count": null,
   "metadata": {},
   "outputs": [],
   "source": [
    "counter = 0\n",
    "for train in train_set:\n",
    "    if any(data_df[\"mat_id\"].str.contains(train)):\n",
    "        counter += 1\n",
    "print(\"Size of the entire RPA training set: \" + str(counter))"
   ]
  },
  {
   "cell_type": "code",
   "execution_count": null,
   "metadata": {},
   "outputs": [],
   "source": [
    "counter = 0\n",
    "for val in val_set:\n",
    "    if any(data_df[\"mat_id\"].str.contains(val)):\n",
    "        counter += 1\n",
    "print(\"Size of the RPA validation set: \" + str(counter))"
   ]
  },
  {
   "cell_type": "code",
   "execution_count": null,
   "metadata": {},
   "outputs": [],
   "source": [
    "counter = 0\n",
    "for test in test_set:\n",
    "    if any(data_df[\"mat_id\"].str.contains(test)):\n",
    "        counter += 1\n",
    "print(\"Size of the RPA test set: \" + str(counter))"
   ]
  }
 ],
 "metadata": {
  "kernelspec": {
   "display_name": "Python 3",
   "language": "python",
   "name": "python3"
  },
  "language_info": {
   "codemirror_mode": {
    "name": "ipython",
    "version": 3
   },
   "file_extension": ".py",
   "mimetype": "text/x-python",
   "name": "python",
   "nbconvert_exporter": "python",
   "pygments_lexer": "ipython3",
   "version": "3.12.4"
  }
 },
 "nbformat": 4,
 "nbformat_minor": 2
}
